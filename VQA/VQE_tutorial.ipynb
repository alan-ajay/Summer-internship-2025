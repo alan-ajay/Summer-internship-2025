{
 "cells": [
  {
   "cell_type": "markdown",
   "id": "ba2d64ef",
   "metadata": {},
   "source": [
    "<p align=\"center\">\n",
    "  <strong style=\"font-size:2em; color:red;\">VQE TUTORIAL</strong>\n",
    "</p>"
   ]
  },
  {
   "cell_type": "markdown",
   "id": "fbeaba21",
   "metadata": {},
   "source": [
    "## **Random Example** \n",
    "\n",
    "Given the Hamiltonian $$ 2II - 2XX + 3YY -3ZZ $$\n",
    "we find its minimal eigenvalue using `StatevectorEsitmator` method and `COBYLA` classical optimisation"
   ]
  },
  {
   "cell_type": "code",
   "execution_count": 1,
   "id": "e145ba9a",
   "metadata": {},
   "outputs": [
    {
     "data": {
      "image/png": "[encoded data removed]",
      "text/plain": [
       "<Figure size 621.739x200.667 with 1 Axes>"
      ]
     },
     "execution_count": 1,
     "metadata": {},
     "output_type": "execute_result"
    }
   ],
   "source": [
    "from qiskit import QuantumCircuit\n",
    "from qiskit.quantum_info import SparsePauliOp\n",
    "from qiskit.circuit.library import TwoLocal\n",
    "import numpy as np\n",
    " \n",
    "theta_list = (2 * np.pi * np.random.rand(1, 8)).tolist()\n",
    "observable = SparsePauliOp.from_list([(\"II\", 2), (\"XX\", -2), (\"YY\", 3), (\"ZZ\", -3)])\n",
    " \n",
    "reference_circuit = QuantumCircuit(2)\n",
    "reference_circuit.x(0)\n",
    " \n",
    "variational_form = TwoLocal(\n",
    "    2,\n",
    "    rotation_blocks=[\"rz\", \"ry\"],\n",
    "    entanglement_blocks=\"cx\",\n",
    "    entanglement=\"linear\",\n",
    "    reps=1,\n",
    ")\n",
    " \n",
    "ansatz = reference_circuit.compose(variational_form)\n",
    " \n",
    "ansatz.decompose().draw(\"mpl\")"
   ]
  },
  {
   "cell_type": "code",
   "execution_count": 2,
   "id": "79b2a17f",
   "metadata": {},
   "outputs": [],
   "source": [
    "def cost_func_vqe(parameters, ansatz, hamiltonian, estimator):\n",
    "    \"\"\"Return estimate of energy from estimator\n",
    " \n",
    "    Parameters:\n",
    "        params (ndarray): Array of ansatz parameters\n",
    "        ansatz (QuantumCircuit): Parameterized ansatz circuit\n",
    "        hamiltonian (SparsePauliOp): Operator representation of Hamiltonian\n",
    "        estimator (Estimator): Estimator primitive instance\n",
    " \n",
    "    Returns:\n",
    "        float: Energy estimate\n",
    "    \"\"\"\n",
    " \n",
    "    estimator_job = estimator.run([(ansatz, hamiltonian, [parameters])])\n",
    "    estimator_result = estimator_job.result()[0]\n",
    " \n",
    "    cost = estimator_result.data.evs[0]\n",
    "    return cost"
   ]
  },
  {
   "cell_type": "code",
   "execution_count": 3,
   "id": "e67fc503",
   "metadata": {},
   "outputs": [],
   "source": [
    "from qiskit.primitives import StatevectorEstimator\n",
    " \n",
    "estimator = StatevectorEstimator()"
   ]
  },
  {
   "cell_type": "code",
   "execution_count": 4,
   "id": "418d4e6e",
   "metadata": {},
   "outputs": [
    {
     "data": {
      "text/plain": [
       " message: Optimization terminated successfully.\n",
       " success: True\n",
       "  status: 1\n",
       "     fun: -5.999999957125782\n",
       "       x: [ 1.739e+00  9.302e-01  1.571e+00  1.167e-05  1.910e+00\n",
       "            1.231e+00  6.226e-01  6.227e-01]\n",
       "    nfev: 131\n",
       "   maxcv: 0.0"
      ]
     },
     "execution_count": 4,
     "metadata": {},
     "output_type": "execute_result"
    }
   ],
   "source": [
    "# SciPy minimizer routine\n",
    "from scipy.optimize import minimize\n",
    " \n",
    "x0 = np.ones(8)\n",
    " \n",
    "result = minimize(\n",
    "    cost_func_vqe, x0, args=(ansatz, observable, estimator), method=\"COBYLA\"\n",
    ")\n",
    " \n",
    "result"
   ]
  },
  {
   "cell_type": "markdown",
   "id": "d1bf0588",
   "metadata": {},
   "source": [
    "## **Problem Definition**\n",
    "\n",
    "Imagine that we want to use a variational algorithm to find the eigenvalue of the following observable:\n",
    "\n",
    "$$\\hat{O}_1 = 2II - 2XX + 3YY - 3ZZ,\n",
    "$$\n",
    "\n",
    "\n",
    "This observable has the following eigenvalues:\n",
    "\n",
    "\n",
    "\\begin{cases}\n",
    "\\lambda_0 = -6 \\\\\n",
    "\\lambda_1 = 4 \\\\\n",
    "\\lambda_2 = 4 \\\\\n",
    "\\lambda_3 = 6\n",
    "\\end{cases}\n",
    "\n",
    "\n",
    "And corresponding eigenstates:\n",
    "\n",
    "\n",
    "\\begin{cases}\n",
    "\\lvert \\phi_0 \\rangle = \\frac{1}{\\sqrt{2}} (\\lvert 00 \\rangle + \\lvert 11 \\rangle) \\\\\n",
    "\\lvert \\phi_1 \\rangle = \\frac{1}{\\sqrt{2}} (\\lvert 00 \\rangle - \\lvert 11 \\rangle) \\\\\n",
    "\\lvert \\phi_2 \\rangle = \\frac{1}{\\sqrt{2}} (\\lvert 01 \\rangle - \\lvert 10 \\rangle) \\\\\n",
    "\\lvert \\phi_3 \\rangle = \\frac{1}{\\sqrt{2}} (\\lvert 01 \\rangle + \\lvert 10 \\rangle)\n",
    "\\end{cases}\n",
    "\n"
   ]
  },
  {
   "cell_type": "code",
   "execution_count": 60,
   "id": "0a8bdea7",
   "metadata": {},
   "outputs": [
    {
     "name": "stdout",
     "output_type": "stream",
     "text": [
      "[1. 1. 1. 1. 1. 1. 1. 1.]\n"
     ]
    },
    {
     "data": {
      "image/png": "[encoded data removed]",
      "text/plain": [
       "<Figure size 621.739x200.667 with 1 Axes>"
      ]
     },
     "execution_count": 60,
     "metadata": {},
     "output_type": "execute_result"
    }
   ],
   "source": [
    "from qiskit.quantum_info import SparsePauliOp\n",
    "from qiskit.circuit.library import TwoLocal\n",
    "from qiskit import QuantumCircuit\n",
    "import numpy as np\n",
    " \n",
    "observable_1 = SparsePauliOp.from_list([(\"II\", 2), (\"XX\", -2), (\"YY\", 3), (\"ZZ\", -3)])\n",
    "def cost_func_vqe(params, ansatz, hamiltonian, estimator):\n",
    "    \"\"\"Return estimate of energy from estimator\n",
    " \n",
    "    Parameters:\n",
    "        params (ndarray): Array of ansatz parameters\n",
    "        ansatz (QuantumCircuit): Parameterized ansatz circuit\n",
    "        hamiltonian (SparsePauliOp): Operator representation of Hamiltonian\n",
    "        estimator (Estimator): Estimator primitive instance\n",
    " \n",
    "    Returns:\n",
    "        float: Energy estimate\n",
    "    \"\"\"\n",
    "    pub = (ansatz, hamiltonian, params)\n",
    "    cost = estimator.run([pub]).result()[0].data.evs\n",
    " \n",
    "    return cost\n",
    "\n",
    " \n",
    "reference_circuit = QuantumCircuit(2)\n",
    "reference_circuit.x(0)\n",
    " \n",
    "variational_form = TwoLocal(\n",
    "    2,\n",
    "    rotation_blocks=[\"rz\", \"ry\"],\n",
    "    entanglement_blocks=\"cx\",\n",
    "    entanglement=\"linear\",\n",
    "    reps=1,\n",
    ")\n",
    "raw_ansatz = reference_circuit.compose(variational_form)\n",
    "x0 = np.ones(raw_ansatz.num_parameters)\n",
    "\n",
    "print(x0)\n",
    "raw_ansatz.decompose().draw(\"mpl\")\n",
    "\n"
   ]
  },
  {
   "cell_type": "code",
   "execution_count": 17,
   "id": "cb5ced3a",
   "metadata": {},
   "outputs": [
    {
     "data": {
      "text/plain": [
       " message: Optimization terminated successfully.\n",
       " success: True\n",
       "  status: 1\n",
       "     fun: -5.999999957125782\n",
       "       x: [ 1.739e+00  9.302e-01  1.571e+00  1.167e-05  1.910e+00\n",
       "            1.231e+00  6.226e-01  6.227e-01]\n",
       "    nfev: 131\n",
       "   maxcv: 0.0"
      ]
     },
     "execution_count": 17,
     "metadata": {},
     "output_type": "execute_result"
    }
   ],
   "source": [
    "\n",
    "# SciPy minimizer routine\n",
    "from scipy.optimize import minimize\n",
    "import time\n",
    " \n",
    "start_time = time.time()\n",
    " \n",
    "result = minimize(\n",
    "    cost_func_vqe,\n",
    "    x0,\n",
    "    args=(raw_ansatz, observable_1, estimator),\n",
    "    method=\"COBYLA\",\n",
    "    options={\"maxiter\": 1000, \"disp\": True},\n",
    ")\n",
    " \n",
    "end_time = time.time()\n",
    "execution_time = end_time - start_time\n",
    "\n",
    "result"
   ]
  },
  {
   "cell_type": "code",
   "execution_count": 16,
   "id": "0e82e912",
   "metadata": {},
   "outputs": [
    {
     "name": "stdout",
     "output_type": "stream",
     "text": [
      "Number of iterations: 131\n",
      "Time (s): 0.2884485721588135\n",
      "Percent error: 7.15e-09\n"
     ]
    }
   ],
   "source": [
    "from numpy.linalg import eigvalsh\n",
    " \n",
    "solution_eigenvalue = min(eigvalsh(observable_1.to_matrix()))\n",
    " \n",
    "print(f\"\"\"Number of iterations: {result.nfev}\"\"\")\n",
    "print(f\"\"\"Time (s): {execution_time}\"\"\")\n",
    " \n",
    "print(\n",
    "    f\"Percent error: {abs((result.fun - solution_eigenvalue)/solution_eigenvalue):.2e}\"\n",
    ")"
   ]
  },
  {
   "cell_type": "code",
   "execution_count": 19,
   "id": "8d7dad45",
   "metadata": {},
   "outputs": [
    {
     "data": {
      "text/plain": [
       "array([1.73921703e+00, 9.30185211e-01, 1.57079524e+00, 1.16674172e-05,\n",
       "       1.91008264e+00, 1.23141063e+00, 6.22590860e-01, 6.22671247e-01])"
      ]
     },
     "execution_count": 19,
     "metadata": {},
     "output_type": "execute_result"
    }
   ],
   "source": [
    "optimal_params = result.x\n",
    "optimal_params"
   ]
  },
  {
   "cell_type": "code",
   "execution_count": 42,
   "id": "1aa7d3f6",
   "metadata": {},
   "outputs": [
    {
     "name": "stdout",
     "output_type": "stream",
     "text": [
      "Fidelity w.r.t. target eigenstate: 1.0000\n"
     ]
    }
   ],
   "source": [
    "from qiskit.quantum_info import Statevector, state_fidelity\n",
    "import numpy as np\n",
    "\n",
    "# 1. Simulate the final variational state\n",
    "bound_circuit = raw_ansatz.assign_parameters(optimal_params, inplace=False)\n",
    "final_state = Statevector.from_instruction(bound_circuit)\n",
    "\n",
    "# 2. Build the known target eigenstate (Bell state)\n",
    "phi0 = Statevector.from_label(\"00\") + Statevector.from_label(\"11\")\n",
    "phi0 = phi0 / np.linalg.norm(phi0.data)\n",
    "\n",
    "# 3. Compute fidelity\n",
    "fidelity = state_fidelity(final_state, phi0)\n",
    "print(f\"Fidelity w.r.t. target eigenstate: {fidelity:.4f}\")\n"
   ]
  },
  {
   "cell_type": "markdown",
   "id": "c6b4e731",
   "metadata": {},
   "source": [
    "# **Experimenting to improve speed and accuracy**"
   ]
  },
  {
   "cell_type": "code",
   "execution_count": null,
   "id": "df179655",
   "metadata": {},
   "outputs": [
    {
     "data": {
      "image/png": "[encoded data removed]",
      "text/plain": [
       "<Figure size 788.961x200.667 with 1 Axes>"
      ]
     },
     "execution_count": 43,
     "metadata": {},
     "output_type": "execute_result"
    }
   ],
   "source": [
    "reference = QuantumCircuit(2)\n",
    "reference.h(0)\n",
    "# Include barrier to separate reference from variational form\n",
    "reference.barrier()\n",
    " \n",
    "ref_ansatz = raw_ansatz.decompose().compose(reference, front=True)\n",
    " \n",
    "ref_ansatz.draw(\"mpl\")"
   ]
  },
  {
   "cell_type": "code",
   "execution_count": 49,
   "id": "fe6b2244",
   "metadata": {},
   "outputs": [
    {
     "data": {
      "text/plain": [
       " message: Optimization terminated successfully.\n",
       " success: True\n",
       "  status: 1\n",
       "     fun: -5.999999677544318\n",
       "       x: [ 1.571e+00  2.746e+00  5.113e-01 -4.490e-05  1.798e+00\n",
       "            2.914e+00  1.024e+00  1.024e+00]\n",
       "    nfev: 205\n",
       "   maxcv: 0.0"
      ]
     },
     "execution_count": 49,
     "metadata": {},
     "output_type": "execute_result"
    }
   ],
   "source": [
    "import time\n",
    " \n",
    "start_time = time.time()\n",
    " \n",
    "ref_result = minimize(\n",
    "    cost_func_vqe, x0, args=(ref_ansatz, observable_1, estimator), method=\"COBYLA\"\n",
    ")\n",
    " \n",
    "end_time = time.time()\n",
    "execution_time = end_time - start_time\n",
    "\n",
    "ref_result"
   ]
  },
  {
   "cell_type": "code",
   "execution_count": 47,
   "id": "e7a675f7",
   "metadata": {},
   "outputs": [
    {
     "name": "stdout",
     "output_type": "stream",
     "text": [
      "-5.999999957125782\n"
     ]
    }
   ],
   "source": [
    "experimental_min_eigenvalue_ref = cost_func_vqe(\n",
    "    result.x, raw_ansatz, observable_1, estimator\n",
    ")\n",
    "print(experimental_min_eigenvalue_ref)"
   ]
  },
  {
   "cell_type": "code",
   "execution_count": 55,
   "id": "97541daf",
   "metadata": {},
   "outputs": [
    {
     "name": "stdout",
     "output_type": "stream",
     "text": [
      "ADDED REFERENCE STATE:\n",
      "Number of iterations: 205\n",
      "Time (s): 0.33827948570251465\n",
      "Percent error: 7.15e-09\n"
     ]
    }
   ],
   "source": [
    "print(\"ADDED REFERENCE STATE:\")\n",
    "print(f\"\"\"Number of iterations: {ref_result.nfev}\"\"\")\n",
    "print(f\"\"\"Time (s): {execution_time}\"\"\")\n",
    "print(\n",
    "    f\"Percent error: {abs((experimental_min_eigenvalue_ref - solution_eigenvalue)/solution_eigenvalue):.2e}\"\n",
    ")"
   ]
  },
  {
   "cell_type": "markdown",
   "id": "4ea64ec2",
   "metadata": {},
   "source": [
    "# **Change the initial point**"
   ]
  },
  {
   "cell_type": "code",
   "execution_count": 59,
   "id": "268387f0",
   "metadata": {},
   "outputs": [
    {
     "name": "stdout",
     "output_type": "stream",
     "text": [
      "INITIAL POINT 1:\n",
      "Number of iterations: 124\n",
      "Time (s): 0.2987709045410156\n"
     ]
    }
   ],
   "source": [
    "import time\n",
    " \n",
    "start_time = time.time()\n",
    " \n",
    "x0 = [0, 0, 0, 6, 0, 0, 0, 0]\n",
    " \n",
    "x0_1_result = minimize(\n",
    "    cost_func_vqe, x0, args=(raw_ansatz, observable_1, estimator), method=\"COBYLA\"\n",
    ")\n",
    " \n",
    "end_time = time.time()\n",
    "execution_time = end_time - start_time\n",
    "print(\"INITIAL POINT 1:\")\n",
    "print(f\"\"\"Number of iterations: {x0_1_result.nfev}\"\"\")\n",
    "print(f\"\"\"Time (s): {execution_time}\"\"\")"
   ]
  },
  {
   "cell_type": "code",
   "execution_count": 52,
   "id": "6857c85b",
   "metadata": {},
   "outputs": [
    {
     "name": "stdout",
     "output_type": "stream",
     "text": [
      "INITIAL POINT 2:\n",
      "Number of iterations: 120\n",
      "Time (s): 0.29395365715026855\n"
     ]
    }
   ],
   "source": [
    "import time\n",
    " \n",
    "start_time = time.time()\n",
    " \n",
    "x0 = 6 * np.ones(raw_ansatz.num_parameters)\n",
    " \n",
    "x0_2_result = minimize(\n",
    "    cost_func_vqe, x0, args=(raw_ansatz, observable_1, estimator), method=\"COBYLA\"\n",
    ")\n",
    " \n",
    "end_time = time.time()\n",
    "execution_time = end_time - start_time\n",
    "\n",
    "print(\"INITIAL POINT 2:\")\n",
    "print(f\"\"\"Number of iterations: {x0_2_result.nfev}\"\"\")\n",
    "print(f\"\"\"Time (s): {execution_time}\"\"\")"
   ]
  },
  {
   "cell_type": "markdown",
   "id": "db7240e1",
   "metadata": {},
   "source": [
    "# **Experimenting with different optimizers**"
   ]
  },
  {
   "cell_type": "code",
   "execution_count": 54,
   "id": "a2098e1e",
   "metadata": {},
   "outputs": [
    {
     "name": "stdout",
     "output_type": "stream",
     "text": [
      "CHANGED TO BFGS OPTIMIZER:\n",
      "Number of iterations: 117\n",
      "Time (s): 0.33827948570251465\n"
     ]
    }
   ],
   "source": [
    "import time\n",
    " \n",
    "start_time = time.time()\n",
    " \n",
    "result = minimize(\n",
    "    cost_func_vqe, x0, args=(raw_ansatz, observable_1, estimator), method=\"BFGS\"\n",
    ")\n",
    " \n",
    "end_time = time.time()\n",
    "execution_time = end_time - start_time\n",
    "\n",
    "print(\"CHANGED TO BFGS OPTIMIZER:\")\n",
    "print(f\"\"\"Number of iterations: {result.nfev}\"\"\")\n",
    "print(f\"\"\"Time (s): {execution_time}\"\"\")"
   ]
  }
 ],
 "metadata": {
  "kernelspec": {
   "display_name": "qiskit_projects",
   "language": "python",
   "name": "python3"
  },
  "language_info": {
   "codemirror_mode": {
    "name": "ipython",
    "version": 3
   },
   "file_extension": ".py",
   "mimetype": "text/x-python",
   "name": "python",
   "nbconvert_exporter": "python",
   "pygments_lexer": "ipython3",
   "version": "3.13.2"
  }
 },
 "nbformat": 4,
 "nbformat_minor": 5
}
